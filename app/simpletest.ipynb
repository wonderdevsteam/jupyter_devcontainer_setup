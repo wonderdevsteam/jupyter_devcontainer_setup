{
 "cells": [
  {
   "cell_type": "code",
   "execution_count": 39,
   "metadata": {},
   "outputs": [],
   "source": [
    "class ClassicalCompt:\n",
    "    nb_piece: int = 0\n",
    "    pieces: List[str] = []\n",
    "    nb_composer: int = 0\n",
    "    composers: List[str] = []\n",
    "    nb_style: int =  0\n",
    "    styles: List[str] = []\n",
    "\n",
    "    def __init__(self):\n",
    "        self.nb_piece = 0\n",
    "        self.pieces = []\n",
    "\n",
    "    def add_pieces(self, *names: str) -> int:\n",
    "        self.pieces += names\n",
    "        self.nb_piece += len(names)\n",
    "        return self.pieces, self.nb_piece\n",
    "\n",
    "    def add_composers(self, *names: str) -> int:\n",
    "        self.composers += names\n",
    "        self.nb_composer += len(names)\n",
    "        return self.composers, self.nb_composer\n",
    "\n",
    "    @classmethod\n",
    "    def add_styles(cls, *styles: str) -> int:\n",
    "        cls.styles += styles\n",
    "        cls.nb_style += len(styles)\n",
    "        return cls.styles, cls.nb_style\n",
    "    \n",
    "    def _reset_composer(self):\n",
    "        self.nb_composer = 0\n",
    "        self.composers = []\n",
    "\n",
    "    def __reset_pieces(self):\n",
    "        self.nb_piece = 0\n",
    "        self.pieces = 0\n",
    "\n",
    "class Personnage:\n",
    "    life: int\n",
    "    speed: int\n",
    "    armor: int\n",
    "\n",
    "    max_life: int = 100\n",
    "    occupation: str = 'qwicer'\n",
    "\n",
    "    def __init__(self, life: int, speed: int, armor: int):\n",
    "        self.life = life\n",
    "        self.speed = speed\n",
    "        self.armor = armor\n",
    "    \n",
    "    def take_damage(self, attack: int):\n",
    "        self.life -= max(attack/(self.armor/10),1)\n",
    "\n",
    "    def set_max_life(self, new_value: int):\n",
    "        self.max_life = new_value\n"
   ]
  },
  {
   "cell_type": "code",
   "execution_count": 40,
   "metadata": {},
   "outputs": [
    {
     "name": "stdout",
     "output_type": "stream",
     "text": [
      "([\"l'aquarium\", 'lambda', 'eggzecutor'], 3)\n",
      "(['La cathédrale engloutie', 'La marche turque', \"L'hymne à la joie\"], 3)\n",
      "([\"l'aquarium\", 'lambda', 'eggzecutor', 'La cathédrale engloutie', 'Ave maria', 'La danse macabre'], 6)\n",
      "(['Debussy', 'Mozart'], 2)\n",
      "(['Debussy', 'Mozart', 'Schuber'], 1)\n",
      "(['Debussy', 'Mozart', 'Schuber', 'Wagner'], 3)\n",
      "(['CLASSICAL', 'MODERN'], 2)\n",
      "(['CLASSICAL', 'MODERN', 'JAZZ', 'ROMANTIC'], 4)\n",
      "(['CLASSICAL', 'MODERN', 'JAZZ', 'ROMANTIC', 'CLERICAL'], 5)\n"
     ]
    }
   ],
   "source": [
    "libA = ClassicalCompt()\n",
    "libB = ClassicalCompt()\n",
    "\n",
    "\n",
    "print(libB.add_pieces(\"l'aquarium\", \"lambda\", \"eggzecutor\"))\n",
    "print(libA.add_pieces('La cathédrale engloutie', 'La marche turque', \"L'hymne à la joie\"))\n",
    "print(libB.add_pieces('La cathédrale engloutie', 'Ave maria', \"La danse macabre\"))\n",
    "\n",
    "print(libA.add_composers('Debussy', 'Mozart'))\n",
    "print(libB.add_composers('Schuber'))\n",
    "print(libA.add_composers('Wagner'))\n",
    "\n",
    "print(libA.add_styles('CLASSICAL', 'MODERN'))\n",
    "print(libB.add_styles('JAZZ', 'ROMANTIC'))\n",
    "print(libA.add_styles('CLERICAL'))\n",
    "\n"
   ]
  },
  {
   "cell_type": "code",
   "execution_count": 28,
   "metadata": {},
   "outputs": [
    {
     "name": "stdout",
     "output_type": "stream",
     "text": [
      "[] 0\n"
     ]
    },
    {
     "ename": "AttributeError",
     "evalue": "'ClassicalCompt' object has no attribute '__reset_pieces'",
     "output_type": "error",
     "traceback": [
      "\u001b[0;31m---------------------------------------------------------------------------\u001b[0m",
      "\u001b[0;31mAttributeError\u001b[0m                            Traceback (most recent call last)",
      "\u001b[1;32m/home/app/app/simpletest.ipynb Cell 3\u001b[0m line \u001b[0;36m3\n\u001b[1;32m      <a href='vscode-notebook-cell://dev-container%2B7b22686f737450617468223a222f686f6d652f7469746f75616e2f776f6e646572646576732f6a7570797465725f646576636f6e7461696e65725f7365747570222c226c6f63616c446f636b6572223a66616c73652c22636f6e66696746696c65223a7b22246d6964223a312c22667350617468223a222f686f6d652f7469746f75616e2f776f6e646572646576732f6a7570797465725f646576636f6e7461696e65725f73657475702f2e646576636f6e7461696e65722f646576636f6e7461696e65722e6a736f6e222c2265787465726e616c223a2266696c653a2f2f2f686f6d652f7469746f75616e2f776f6e646572646576732f6a7570797465725f646576636f6e7461696e65725f73657475702f2e646576636f6e7461696e65722f646576636f6e7461696e65722e6a736f6e222c2270617468223a222f686f6d652f7469746f75616e2f776f6e646572646576732f6a7570797465725f646576636f6e7461696e65725f73657475702f2e646576636f6e7461696e65722f646576636f6e7461696e65722e6a736f6e222c22736368656d65223a2266696c65227d7d/home/app/app/simpletest.ipynb#W4sdnNjb2RlLXJlbW90ZQ%3D%3D?line=0'>1</a>\u001b[0m libA\u001b[39m.\u001b[39m_reset_composer()\n\u001b[1;32m      <a href='vscode-notebook-cell://dev-container%2B7b22686f737450617468223a222f686f6d652f7469746f75616e2f776f6e646572646576732f6a7570797465725f646576636f6e7461696e65725f7365747570222c226c6f63616c446f636b6572223a66616c73652c22636f6e66696746696c65223a7b22246d6964223a312c22667350617468223a222f686f6d652f7469746f75616e2f776f6e646572646576732f6a7570797465725f646576636f6e7461696e65725f73657475702f2e646576636f6e7461696e65722f646576636f6e7461696e65722e6a736f6e222c2265787465726e616c223a2266696c653a2f2f2f686f6d652f7469746f75616e2f776f6e646572646576732f6a7570797465725f646576636f6e7461696e65725f73657475702f2e646576636f6e7461696e65722f646576636f6e7461696e65722e6a736f6e222c2270617468223a222f686f6d652f7469746f75616e2f776f6e646572646576732f6a7570797465725f646576636f6e7461696e65725f73657475702f2e646576636f6e7461696e65722f646576636f6e7461696e65722e6a736f6e222c22736368656d65223a2266696c65227d7d/home/app/app/simpletest.ipynb#W4sdnNjb2RlLXJlbW90ZQ%3D%3D?line=1'>2</a>\u001b[0m \u001b[39mprint\u001b[39m(libA\u001b[39m.\u001b[39mcomposers, libA\u001b[39m.\u001b[39mnb_composer)\n\u001b[0;32m----> <a href='vscode-notebook-cell://dev-container%2B7b22686f737450617468223a222f686f6d652f7469746f75616e2f776f6e646572646576732f6a7570797465725f646576636f6e7461696e65725f7365747570222c226c6f63616c446f636b6572223a66616c73652c22636f6e66696746696c65223a7b22246d6964223a312c22667350617468223a222f686f6d652f7469746f75616e2f776f6e646572646576732f6a7570797465725f646576636f6e7461696e65725f73657475702f2e646576636f6e7461696e65722f646576636f6e7461696e65722e6a736f6e222c2265787465726e616c223a2266696c653a2f2f2f686f6d652f7469746f75616e2f776f6e646572646576732f6a7570797465725f646576636f6e7461696e65725f73657475702f2e646576636f6e7461696e65722f646576636f6e7461696e65722e6a736f6e222c2270617468223a222f686f6d652f7469746f75616e2f776f6e646572646576732f6a7570797465725f646576636f6e7461696e65725f73657475702f2e646576636f6e7461696e65722f646576636f6e7461696e65722e6a736f6e222c22736368656d65223a2266696c65227d7d/home/app/app/simpletest.ipynb#W4sdnNjb2RlLXJlbW90ZQ%3D%3D?line=2'>3</a>\u001b[0m libA\u001b[39m.\u001b[39;49m__reset_pieces()\n",
      "\u001b[0;31mAttributeError\u001b[0m: 'ClassicalCompt' object has no attribute '__reset_pieces'"
     ]
    }
   ],
   "source": [
    "\n",
    "libA._reset_composer()\n",
    "print(libA.composers, libA.nb_composer)\n",
    "libA.__reset_pieces()"
   ]
  }
 ],
 "metadata": {
  "kernelspec": {
   "display_name": "venv",
   "language": "python",
   "name": "python3"
  },
  "language_info": {
   "codemirror_mode": {
    "name": "ipython",
    "version": 3
   },
   "file_extension": ".py",
   "mimetype": "text/x-python",
   "name": "python",
   "nbconvert_exporter": "python",
   "pygments_lexer": "ipython3",
   "version": "3.12.0"
  }
 },
 "nbformat": 4,
 "nbformat_minor": 2
}
